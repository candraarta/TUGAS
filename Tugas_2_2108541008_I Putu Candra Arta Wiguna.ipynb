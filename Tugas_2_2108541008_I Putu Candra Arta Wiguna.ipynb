{
 "cells": [
  {
   "cell_type": "markdown",
   "id": "107e0b74",
   "metadata": {},
   "source": [
    "# 5.12 list di python"
   ]
  },
  {
   "cell_type": "code",
   "execution_count": 1,
   "id": "0db24702",
   "metadata": {},
   "outputs": [
    {
     "name": "stdout",
     "output_type": "stream",
     "text": [
      "['mangga', 'pisang', 'rambutan', 'semangka']\n",
      "semangka\n",
      "pisang\n",
      "['mangga', 'pisang', 'rambutan', 'semangka']\n",
      "['mangga', 'pisang']\n",
      "['mangga', 'pisang', 'rambutan']\n"
     ]
    }
   ],
   "source": [
    "buah = ['mangga', 'pisang', 'rambutan', 'semangka']\n",
    "print(buah)\n",
    "\n",
    "print(buah[3])\n",
    "\n",
    "print(buah[-3])\n",
    "\n",
    "print(buah[0:4])\n",
    "\n",
    "print(buah[0:2])\n",
    "\n",
    "print(buah[0:3])\n",
    "\n"
   ]
  },
  {
   "cell_type": "markdown",
   "id": "c8568517",
   "metadata": {},
   "source": [
    "# 5.13 METODA LIST"
   ]
  },
  {
   "cell_type": "code",
   "execution_count": 2,
   "id": "72ab5150",
   "metadata": {},
   "outputs": [
    {
     "name": "stdout",
     "output_type": "stream",
     "text": [
      "['Made', 'Nyoman', 'Ketut', 'Sari']\n",
      "['Dewi', 'Made', 'Nyoman', 'Ketut', 'Sari']\n",
      "['Dewi', 'Made', 'Ketut', 'Sari']\n",
      "False\n",
      "True\n",
      "4\n"
     ]
    }
   ],
   "source": [
    "nama = ['Made','Nyoman','Ketut']\n",
    "nama.append('Sari')\n",
    "print(nama)\n",
    "\n",
    "nama.insert(0,'Dewi')\n",
    "print(nama)\n",
    "\n",
    "nama.remove('Nyoman')\n",
    "print(nama)\n",
    "\n",
    "print('Johan' in nama)\n",
    "\n",
    "print('Dewi' in nama)\n",
    "\n",
    "print(len(nama))\n",
    "\n"
   ]
  },
  {
   "cell_type": "markdown",
   "id": "770863ea",
   "metadata": {},
   "source": [
    "# 5.14 For Loop"
   ]
  },
  {
   "cell_type": "code",
   "execution_count": 4,
   "id": "fd8c588c",
   "metadata": {},
   "outputs": [
    {
     "name": "stdout",
     "output_type": "stream",
     "text": [
      "manggis\n",
      "pepaya\n",
      "markisa\n",
      "durian\n",
      "rambutan\n",
      "manggis\n",
      "pepaya\n",
      "markisa\n",
      "durian\n",
      "rambutan\n"
     ]
    }
   ],
   "source": [
    "buah =['manggis','pepaya','markisa','durian','rambutan']\n",
    "for jenis in buah:\n",
    "    print(jenis)\n",
    "\n",
    "i=0\n",
    "while i < len(buah):\n",
    "    print(buah[i])\n",
    "    i+=1\n"
   ]
  },
  {
   "cell_type": "markdown",
   "id": "5532b52c",
   "metadata": {},
   "source": [
    "# 5.15 Fungsi Range"
   ]
  },
  {
   "cell_type": "code",
   "execution_count": 5,
   "id": "f22cee27",
   "metadata": {},
   "outputs": [
    {
     "name": "stdout",
     "output_type": "stream",
     "text": [
      "range(0, 6)\n",
      "0\n",
      "1\n",
      "2\n",
      "3\n",
      "4\n",
      "5\n",
      "5\n",
      "6\n",
      "7\n",
      "8\n",
      "9\n",
      "0\n",
      "2\n",
      "4\n",
      "6\n",
      "8\n"
     ]
    }
   ],
   "source": [
    "angka = range(6)\n",
    "print(angka)\n",
    "\n",
    "for isi in angka:\n",
    "    print(isi)\n",
    "\n",
    "for isi in range(5,10):\n",
    "    print(isi)\n",
    "\n",
    "for isi in range(0,10,2):\n",
    "    print(isi)\n"
   ]
  },
  {
   "cell_type": "markdown",
   "id": "ec521232",
   "metadata": {},
   "source": [
    "Latihan:\n",
    "1. Buatlah program untuk mencari nilai terbesar di dalam suatu list.\n",
    "Jawaban:"
   ]
  },
  {
   "cell_type": "code",
   "execution_count": 6,
   "id": "e1194c3a",
   "metadata": {},
   "outputs": [
    {
     "name": "stdout",
     "output_type": "stream",
     "text": [
      "5\n",
      "778\n",
      "100\n",
      "[100, 102, 222, 332, 343, 454, 676, 556, 778, 103.778, 223]\n"
     ]
    }
   ],
   "source": [
    "data = [1,2,3,4,5,4,3,2,1]\n",
    "terbesar = data[0]\n",
    "for i in range(len(data)):\n",
    "    if data[i] > terbesar:\n",
    "        terbesar = data[i]\n",
    "print(terbesar)\n",
    "\n",
    "data = [100,102,222,332,343,454,676,556,778]\n",
    "terbesar = data[0]\n",
    "for i in range(len(data)):\n",
    "    if data[i] > terbesar:\n",
    "        terbesar = data[i]\n",
    "print(terbesar)\n",
    "\n",
    "data = [100,102,222,332,343,454,676,556,778]\n",
    "terkecil = data[0]\n",
    "for i in range(len(data)):\n",
    "    if data[i] < terkecil:\n",
    "        terkecil = data[i]\n",
    "print(terkecil)\n",
    "\n",
    "angka = [100,102,222,332,343,454,676,556,778,100,102,103.778,222,223,223]\n",
    "angka_unik = []\n",
    "for anggota in angka:\n",
    "    if anggota not in angka_unik:\n",
    "        angka_unik.append(anggota)\n",
    "print(angka_unik)\n",
    "\n"
   ]
  },
  {
   "cell_type": "markdown",
   "id": "fbd89b28",
   "metadata": {},
   "source": [
    "# 5.16 List 2 Dimensi"
   ]
  },
  {
   "cell_type": "code",
   "execution_count": 7,
   "id": "f33d93c3",
   "metadata": {},
   "outputs": [
    {
     "name": "stdout",
     "output_type": "stream",
     "text": [
      "[[1, 2, 3, 4], [5, 6, 7, 8], [9, 10, 11, 12], [13, 14, 15, 16]]\n",
      "100\n"
     ]
    },
    {
     "data": {
      "text/plain": [
       "[[1, 2, 3, 4], [5, 6, 100, 8], [9, 10, 11, 12], [13, 14, 15, 16]]"
      ]
     },
     "execution_count": 7,
     "metadata": {},
     "output_type": "execute_result"
    }
   ],
   "source": [
    "matriks = [\n",
    "    [1,2,3,4],\n",
    "    [5,6,7,8],\n",
    "    [9,10,11,12],\n",
    "    [13,14,15,16]\n",
    "]\n",
    "print(matriks)\n",
    "\n",
    "matriks[1]\n",
    "\n",
    "matriks[1][2]\n",
    "\n",
    "matriks[1][2]=100\n",
    "print(matriks[1][2])\n",
    "\n",
    "matriks\n"
   ]
  },
  {
   "cell_type": "markdown",
   "id": "cbf5d631",
   "metadata": {},
   "source": [
    " ### berikut Cara memanggil anggota dari list 2 dimensi."
   ]
  },
  {
   "cell_type": "code",
   "execution_count": 8,
   "id": "091c3ad6",
   "metadata": {},
   "outputs": [
    {
     "name": "stdout",
     "output_type": "stream",
     "text": [
      "[1, 2, 3, 4]\n",
      "1\n",
      "2\n",
      "3\n",
      "4\n",
      "[5, 6, 100, 8]\n",
      "5\n",
      "6\n",
      "100\n",
      "8\n",
      "[9, 10, 11, 12]\n",
      "9\n",
      "10\n",
      "11\n",
      "12\n",
      "[13, 14, 15, 16]\n",
      "13\n",
      "14\n",
      "15\n",
      "16\n"
     ]
    }
   ],
   "source": [
    "for baris in matriks:\n",
    "    print(baris)\n",
    "    for kolom in baris:\n",
    "        print(kolom)"
   ]
  },
  {
   "cell_type": "markdown",
   "id": "92fc9f5a",
   "metadata": {},
   "source": [
    "# 5.17 Tuples"
   ]
  },
  {
   "cell_type": "code",
   "execution_count": 9,
   "id": "74738296",
   "metadata": {},
   "outputs": [
    {
     "name": "stdout",
     "output_type": "stream",
     "text": [
      "0\n",
      "(0, 1, 2)\n",
      "0\n",
      "1\n",
      "2\n"
     ]
    },
    {
     "data": {
      "text/plain": [
       "3"
      ]
     },
     "execution_count": 9,
     "metadata": {},
     "output_type": "execute_result"
    }
   ],
   "source": [
    "angka = (0,1,2,3,3,4,5)\n",
    "\n",
    "print(angka[0])\n",
    "\n",
    "print(angka[0:3])\n",
    "\n",
    "for isi in angka [0:3]:\n",
    "    print(isi)\n",
    "\n",
    "angka.count(1)\n",
    "\n",
    "angka.index(3)"
   ]
  },
  {
   "cell_type": "markdown",
   "id": "c945296c",
   "metadata": {},
   "source": [
    "# 5.18 Dictionaries"
   ]
  },
  {
   "cell_type": "code",
   "execution_count": 10,
   "id": "e31f4705",
   "metadata": {},
   "outputs": [],
   "source": [
    "data_orang ={\n",
    "    \"nama\" : \"wayan nengah\",\n",
    "    \"umur\" : 55,\n",
    "    \"apakah_singel\" : False\n",
    "}"
   ]
  },
  {
   "cell_type": "code",
   "execution_count": 11,
   "id": "4b88b0e8",
   "metadata": {},
   "outputs": [
    {
     "name": "stdout",
     "output_type": "stream",
     "text": [
      "wayan nengah\n"
     ]
    }
   ],
   "source": [
    "print(data_orang['nama'])"
   ]
  },
  {
   "cell_type": "code",
   "execution_count": 12,
   "id": "c937894f",
   "metadata": {},
   "outputs": [
    {
     "name": "stdout",
     "output_type": "stream",
     "text": [
      "wayan nengah\n"
     ]
    }
   ],
   "source": [
    "print(data_orang.get('nama'))"
   ]
  },
  {
   "cell_type": "code",
   "execution_count": 13,
   "id": "7c68c5fb",
   "metadata": {},
   "outputs": [
    {
     "name": "stdout",
     "output_type": "stream",
     "text": [
      "None\n"
     ]
    }
   ],
   "source": [
    "print(data_orang.get ('Nama'))"
   ]
  },
  {
   "cell_type": "code",
   "execution_count": 14,
   "id": "ea8cacbc",
   "metadata": {},
   "outputs": [
    {
     "name": "stdout",
     "output_type": "stream",
     "text": [
      "None\n"
     ]
    }
   ],
   "source": [
    "print(data_orang.get ('tanggal_lahir'))"
   ]
  },
  {
   "cell_type": "code",
   "execution_count": 15,
   "id": "81346d7c",
   "metadata": {},
   "outputs": [
    {
     "name": "stdout",
     "output_type": "stream",
     "text": [
      "2-2-1976\n"
     ]
    }
   ],
   "source": [
    "print(data_orang.get('tanggal_lahir', '2-2-1976'))"
   ]
  },
  {
   "cell_type": "code",
   "execution_count": 16,
   "id": "87d40a90",
   "metadata": {},
   "outputs": [
    {
     "name": "stdout",
     "output_type": "stream",
     "text": [
      "{'nama': 'wayan nengah', 'umur': 55, 'apakah_singel': False}\n"
     ]
    }
   ],
   "source": [
    "print (data_orang)"
   ]
  },
  {
   "cell_type": "code",
   "execution_count": 17,
   "id": "23fa3c79",
   "metadata": {},
   "outputs": [],
   "source": [
    "data_orang['HP'] = '08123333999'"
   ]
  },
  {
   "cell_type": "code",
   "execution_count": 18,
   "id": "33735c0c",
   "metadata": {},
   "outputs": [
    {
     "name": "stdout",
     "output_type": "stream",
     "text": [
      "{'nama': 'wayan nengah', 'umur': 55, 'apakah_singel': False, 'HP': '08123333999'}\n"
     ]
    }
   ],
   "source": [
    "print(data_orang)"
   ]
  },
  {
   "cell_type": "code",
   "execution_count": null,
   "id": "8ffcf267",
   "metadata": {},
   "outputs": [],
   "source": []
  },
  {
   "cell_type": "markdown",
   "id": "8ccaaf55",
   "metadata": {},
   "source": [
    "# 5.19 Fungsi dalam Python"
   ]
  },
  {
   "cell_type": "code",
   "execution_count": 19,
   "id": "4d351d3e",
   "metadata": {},
   "outputs": [],
   "source": [
    "def full_nama (first_name, last_name):\n",
    "    print (f\"Nama lengkap anda adalah {first_name} {last_name}\")"
   ]
  },
  {
   "cell_type": "code",
   "execution_count": 30,
   "id": "ba7a526d",
   "metadata": {},
   "outputs": [
    {
     "name": "stdout",
     "output_type": "stream",
     "text": [
      "Nama depan adalah candra\n",
      " Nama belakang anda adalah arta\n",
      "candraarta\n"
     ]
    }
   ],
   "source": [
    "first_name = input (\"Nama depan adalah \")\n",
    "last_name = input(\" Nama belakang anda adalah \")\n",
    "print (first_name+  last_name)"
   ]
  },
  {
   "cell_type": "markdown",
   "id": "c5ba1256",
   "metadata": {},
   "source": [
    "# 5.19.1 Tugas Fungsi pada Python\n",
    "## Ada dua jenis tugas fungsi pada Python yaitu:\n",
    "###  Menjalankan perintah.\n",
    "###  Menampilkan hasil perhitungan"
   ]
  },
  {
   "cell_type": "code",
   "execution_count": 31,
   "id": "012ea1b6",
   "metadata": {},
   "outputs": [],
   "source": [
    "def waktu_sampai(jarak, kecepatan): \n",
    "    waktu = jarak/kecepatan \n",
    "    print(waktu) "
   ]
  },
  {
   "cell_type": "code",
   "execution_count": 32,
   "id": "aa4e93d9",
   "metadata": {},
   "outputs": [],
   "source": [
    "def waktu_tempuh (jarak, kecepatan): \n",
    "    waktu = jarak/kecepatan \n",
    "    return waktu "
   ]
  },
  {
   "cell_type": "code",
   "execution_count": 33,
   "id": "e25f3c98",
   "metadata": {},
   "outputs": [
    {
     "name": "stdout",
     "output_type": "stream",
     "text": [
      "1.3333333333333333\n"
     ]
    }
   ],
   "source": [
    "waktu_sampai(80,60)"
   ]
  },
  {
   "cell_type": "code",
   "execution_count": 34,
   "id": "f0eb78e4",
   "metadata": {},
   "outputs": [
    {
     "data": {
      "text/plain": [
       "1.3333333333333333"
      ]
     },
     "execution_count": 34,
     "metadata": {},
     "output_type": "execute_result"
    }
   ],
   "source": [
    "waktu_tempuh(80,60)"
   ]
  },
  {
   "cell_type": "code",
   "execution_count": 35,
   "id": "ebd06e7f",
   "metadata": {},
   "outputs": [
    {
     "name": "stdout",
     "output_type": "stream",
     "text": [
      "1.3333333333333333\n",
      "None\n"
     ]
    }
   ],
   "source": [
    "a = waktu_sampai(80,60) \n",
    "print (a)"
   ]
  },
  {
   "cell_type": "code",
   "execution_count": 36,
   "id": "f049e998",
   "metadata": {},
   "outputs": [
    {
     "name": "stdout",
     "output_type": "stream",
     "text": [
      "1.3333333333333333\n"
     ]
    }
   ],
   "source": [
    "b = waktu_tempuh (80,60) \n",
    "print(b)"
   ]
  },
  {
   "cell_type": "markdown",
   "id": "7efdb548",
   "metadata": {},
   "source": [
    "### Latihan: Buatlah program yang menggunakan fungsi Python untuk menghitung luas segitiga, lingkaran, persegi dan persegi panjang. Selain itu berikan peringatan bagi bidang lain yang tidak termasuk perhitungan"
   ]
  },
  {
   "cell_type": "code",
   "execution_count": 37,
   "id": "a21509c9",
   "metadata": {},
   "outputs": [],
   "source": [
    "import numpy as np"
   ]
  },
  {
   "cell_type": "code",
   "execution_count": 38,
   "id": "7a0235d3",
   "metadata": {},
   "outputs": [],
   "source": [
    "def luas_segitiga(alas,tinggi):\n",
    "    luas = (1/2)*alas*tinggi\n",
    "    return luas\n",
    "def luas_lingkaran(jari_jari):\n",
    "    luas = np.pi*(jari_jari**2)\n",
    "    return luas\n",
    "def luas_persegi(sisi):\n",
    "    luas= sisi**2\n",
    "    return luas\n",
    "def luas_persegi_panjang(panjang,lebar):\n",
    "    luas = panjang*lebar\n",
    "    return luas"
   ]
  },
  {
   "cell_type": "code",
   "execution_count": 40,
   "id": "a6d4202a",
   "metadata": {},
   "outputs": [
    {
     "name": "stdout",
     "output_type": "stream",
     "text": [
      "Tulis jenis bidangnya segitiga\n",
      "Berapakah panjang alasnya? 10\n",
      "Berapakah tingginya? 21\n",
      "luas segitiga adalah 105.0\n"
     ]
    }
   ],
   "source": [
    "jenis_bidang = input(\"Tulis jenis bidangnya \")\n",
    "if jenis_bidang.upper() == 'SEGITIGA':\n",
    "    alas = float(input('Berapakah panjang alasnya? '))\n",
    "    tinggi = float(input('Berapakah tingginya? '))\n",
    "    luas = luas_segitiga(alas,tinggi)\n",
    "    print(f\"luas {jenis_bidang} adalah {luas}\")\n",
    "elif jenis_bidang.upper() == 'LINGKARAN':\n",
    "    alas = float(input('Berapakah panjang jari-jarinya? '))\n",
    "    luas = luas_lingkaran(jari_jari)\n",
    "    print(f\"luas {jenis_bidang} adalah {luas}\")\n",
    "elif j(enis_bidang.upper() == 'PERSEGI') or (jenis_bidang.ipper() == 'BUJUR SANGKAR'):\n",
    "    sisi = float(input('Berapakah panjang sisinya? '))\n",
    "    luas = luas_persegi(sisi)\n",
    "    print(f\"luas {jenis_bidang} adalah {luas}\")\n",
    "elif jenis_bidang.upper() == 'PERSEGI PANJANG':\n",
    "    panjang = float(input('Berapakah panjangnya? '))\n",
    "    lebar = float(input('Berapakah lebarnya? '))\n",
    "    luas = luas_persegi_panjang(panjang,lebar)\n",
    "    print(f\"luas {jenis_bidang} adalah {luas}\")\n",
    "else:\n",
    "    print(f\"Maaf bidang{jenis_bidang} yang anda masukkan tidak sesuai.\")\n",
    "    print(\"Plihan hanya ada SEGITIGA, LINGKARAN, PERSEGI dan PERSEGI PANJANG.\")\n",
    "    print('Terimakasih!!!')"
   ]
  },
  {
   "cell_type": "code",
   "execution_count": null,
   "id": "4e00e3f1",
   "metadata": {},
   "outputs": [],
   "source": []
  }
 ],
 "metadata": {
  "kernelspec": {
   "display_name": "Python 3 (ipykernel)",
   "language": "python",
   "name": "python3"
  },
  "language_info": {
   "codemirror_mode": {
    "name": "ipython",
    "version": 3
   },
   "file_extension": ".py",
   "mimetype": "text/x-python",
   "name": "python",
   "nbconvert_exporter": "python",
   "pygments_lexer": "ipython3",
   "version": "3.9.7"
  }
 },
 "nbformat": 4,
 "nbformat_minor": 5
}
