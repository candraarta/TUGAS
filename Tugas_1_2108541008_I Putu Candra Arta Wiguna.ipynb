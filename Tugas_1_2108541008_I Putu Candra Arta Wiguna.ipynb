{
 "cells": [
  {
   "cell_type": "code",
   "execution_count": 1,
   "id": "51f3a2f0",
   "metadata": {
    "scrolled": true
   },
   "outputs": [
    {
     "name": "stdout",
     "output_type": "stream",
     "text": [
      "Ini Kelas Algoritma\n",
      "Ini Kelas Algoritma\n",
      "I dont't understand what are you saying\n",
      "He is such a \"GENIUS\"\n"
     ]
    }
   ],
   "source": [
    "print('Ini Kelas Algoritma')\n",
    "\n",
    "print(\"Ini Kelas Algoritma\")\n",
    "\n",
    "print(\"I dont't understand what are you saying\")\n",
    "\n",
    "print('He is such a \"GENIUS\"')\n"
   ]
  },
  {
   "cell_type": "code",
   "execution_count": 2,
   "id": "b5e2b412",
   "metadata": {},
   "outputs": [
    {
     "name": "stdout",
     "output_type": "stream",
     "text": [
      "100\n",
      "1000000\n",
      "100000000\n"
     ]
    }
   ],
   "source": [
    "jumlah_mahasiswa = 100\n",
    "uang_di_saku = 1000000\n",
    "\n",
    "print(jumlah_mahasiswa)\n",
    "\n",
    "print(uang_di_saku)\n",
    "\n",
    "print(jumlah_mahasiswa*uang_di_saku)"
   ]
  },
  {
   "cell_type": "code",
   "execution_count": 3,
   "id": "cd533948",
   "metadata": {},
   "outputs": [
    {
     "name": "stdout",
     "output_type": "stream",
     "text": [
      "hello_kawan\n",
      "candra arta wiguna_CAWI\n"
     ]
    }
   ],
   "source": [
    "print ('hello_kawan')\n",
    "\n",
    "nama_depan = 'candra '\n",
    "\n",
    "nama_tengah = 'arta'\n",
    "\n",
    "nama_belakang = ' wiguna_CAWI'\n",
    "\n",
    "print (nama_depan + nama_tengah + nama_belakang)"
   ]
  },
  {
   "cell_type": "code",
   "execution_count": null,
   "id": "64ed288f",
   "metadata": {},
   "outputs": [],
   "source": []
  },
  {
   "cell_type": "code",
   "execution_count": 4,
   "id": "225aa537",
   "metadata": {},
   "outputs": [
    {
     "name": "stdout",
     "output_type": "stream",
     "text": [
      "berapakah berat anda dalam kg? 10\n",
      "Berat badan anda adalah 10 kg\n"
     ]
    }
   ],
   "source": [
    "berat_badan = input('berapakah berat anda dalam kg? ' )\n",
    "print (\"Berat badan anda adalah \" +  berat_badan + \" kg\")"
   ]
  },
  {
   "cell_type": "code",
   "execution_count": 5,
   "id": "796f7ee9",
   "metadata": {},
   "outputs": [
    {
     "name": "stdout",
     "output_type": "stream",
     "text": [
      "10\n"
     ]
    }
   ],
   "source": [
    "print(berat_badan)"
   ]
  },
  {
   "cell_type": "code",
   "execution_count": 6,
   "id": "129c3846",
   "metadata": {},
   "outputs": [
    {
     "name": "stdout",
     "output_type": "stream",
     "text": [
      "siapa nama panggilan anda? candra\n",
      "apa hobi anda saat ini? menulis\n",
      "semangat_menjalanimenulisnya ngab, candra!\n"
     ]
    }
   ],
   "source": [
    "nama = input(\"siapa nama panggilan anda? \")\n",
    "hobi_saat_ini = input('apa hobi anda saat ini? ') \n",
    "print('semangat_menjalani ' + hobi_saat_ini +\"nya ngab, \" + nama + \"!\")"
   ]
  },
  {
   "cell_type": "code",
   "execution_count": 7,
   "id": "9a24b58a",
   "metadata": {},
   "outputs": [
    {
     "name": "stdout",
     "output_type": "stream",
     "text": [
      "siapa nama panggilan anda? candra\n",
      "siapa nama pacar anda saat ini? dindin\n",
      "kasihandindinnya ngabers, candra!!!\n"
     ]
    }
   ],
   "source": [
    "nama = input(\"siapa nama panggilan anda? \")\n",
    "nama_pacar = input('siapa nama pacar anda saat ini? ')\n",
    "print('kasihan' + nama_pacar + \"nya ngabers, \" + nama + \"!!!\")"
   ]
  },
  {
   "cell_type": "code",
   "execution_count": 8,
   "id": "dcf69a37",
   "metadata": {},
   "outputs": [
    {
     "name": "stdout",
     "output_type": "stream",
     "text": [
      "berapakah uang di dompet anda? 100\n",
      "berpakah uang di tabungan anda? 200\n",
      "total uang anda saat ini adalah Rp 300\n"
     ]
    }
   ],
   "source": [
    "uang_di_dompet = input('berapakah uang di dompet anda? ')\n",
    "uang_di_tabungan = input(\"berpakah uang di tabungan anda? \")\n",
    "total_uang = int(uang_di_dompet) + int(uang_di_tabungan)\n",
    "print(\"total uang anda saat ini adalah Rp \"+ str(total_uang))"
   ]
  },
  {
   "cell_type": "code",
   "execution_count": 9,
   "id": "77374c01",
   "metadata": {},
   "outputs": [
    {
     "name": "stdout",
     "output_type": "stream",
     "text": [
      "candra adalah seorang mahasiswa yang mempunyai hobi menyanyi,bersekolah di universitas udayana.\n",
      "candra adalah seorang mahasiswa  di universitas udayana.\n",
      "candra mempunyai hobi menyanyi yang bersekolah di universitas udayana.\n",
      " universitas udayana adalah tempat candra menuntut ilmu. disana candra berada di falkutas MIPA.\n"
     ]
    }
   ],
   "source": [
    "nama = \"candra\"\n",
    "jabatan = \"mahasiswa \"\n",
    "hobi = \"menyanyi\"\n",
    "instansi = \"universitas udayana\"\n",
    "print (nama + \" adalah seorang \" + jabatan + \"yang mempunyai hobi \" + hobi + \",\" + \"bersekolah di \" + instansi + \".\" )\n",
    "\n",
    "print (f'{nama} adalah seorang {jabatan} di {instansi}.')\n",
    "\n",
    "print(f\"{nama} mempunyai hobi {hobi} yang bersekolah di {instansi}.\")\n",
    "\n",
    "print(f\" {instansi} adalah tempat {nama} menuntut ilmu. disana {nama} berada di falkutas MIPA.\")"
   ]
  },
  {
   "cell_type": "code",
   "execution_count": 10,
   "id": "137e0483",
   "metadata": {},
   "outputs": [
    {
     "name": "stdout",
     "output_type": "stream",
     "text": [
      "ini\n",
      "ini matakuliah algoritma\n",
      "atakuliah algoritma\n",
      "iaki gia\n",
      "ini matakuliah algorit\n",
      "i\n",
      "ni matakuliah algoritma \n",
      "ini matakuliah algoritma \n",
      "ini matakuliah algoritma\n",
      "i\n",
      "in\n",
      "ini\n",
      "ini \n",
      "ini m\n",
      "ni matakuliah algoritma \n",
      "ini matakuliah algoritma\n",
      "ini matakuliah algoritm\n"
     ]
    }
   ],
   "source": [
    "kelas = 'ini matakuliah algoritma '\n",
    "\n",
    "print(kelas [0:3])\n",
    "\n",
    "print (kelas[0:-1])\n",
    "\n",
    "print(kelas [5:-1])\n",
    "\n",
    "print(kelas[2:-1:3])\n",
    "\n",
    "print(kelas[:-3])\n",
    "\n",
    "print(kelas[:1])\n",
    "\n",
    "print(kelas[1:])\n",
    "\n",
    "print(kelas[:])\n",
    "\n",
    "print(kelas[:-1])\n",
    "\n",
    "print(kelas[:1])\n",
    "\n",
    "print(kelas[:2])\n",
    "\n",
    "print(kelas[:3])\n",
    "\n",
    "print(kelas[:4])\n",
    "\n",
    "print(kelas[:5])\n",
    "\n",
    "print(kelas[1:])\n",
    "\n",
    "print(kelas[:-1])\n",
    "\n",
    "print (kelas[:-2])"
   ]
  },
  {
   "cell_type": "code",
   "execution_count": 11,
   "id": "ef54b115",
   "metadata": {},
   "outputs": [
    {
     "name": "stdout",
     "output_type": "stream",
     "text": [
      "14\n",
      "True\n",
      "True\n"
     ]
    },
    {
     "data": {
      "text/plain": [
       "-1"
      ]
     },
     "execution_count": 11,
     "metadata": {},
     "output_type": "execute_result"
    }
   ],
   "source": [
    "judul = \"tetep mekenyem\"\n",
    "\n",
    "print(len(judul))\n",
    "\n",
    "judul.upper()\n",
    "\n",
    "judul.lower()\n",
    "\n",
    "judul.find(\"mekenyem\")\n",
    "\n",
    "judul.find(\"tetep\")\n",
    "\n",
    "judul.replace(\"tetep\", \"bidadari\")\n",
    "\n",
    "judul.replace(\"mekenyem\", \"kamu\")\n",
    "\n",
    "print (\"mekenyem\" in judul)\n",
    "\n",
    "print(\"tetep\" in judul)\n",
    "\n",
    "judul.find(\"Tetep\")"
   ]
  },
  {
   "cell_type": "code",
   "execution_count": 12,
   "id": "1dfedb3a",
   "metadata": {},
   "outputs": [
    {
     "name": "stdout",
     "output_type": "stream",
     "text": [
      "5\n",
      "-1\n",
      "6\n",
      "2.3333333333333335\n",
      "2\n",
      "1\n",
      "8\n",
      "4\n",
      "2\n",
      "6\n",
      "10\n",
      "2\n",
      "12\n",
      "2.6666666666666665\n",
      "2\n",
      "2\n",
      "8\n",
      "4\n",
      "2\n",
      "6\n"
     ]
    }
   ],
   "source": [
    "print (2+3)\n",
    "print (2-3)\n",
    "print (2*3)\n",
    "print (7/3)\n",
    "print (7//3)\n",
    "print (7%3)\n",
    "print (2**3)\n",
    "\n",
    "x=3\n",
    "x+=1\n",
    "print (x)\n",
    "x-=2\n",
    "print (x)\n",
    "x*=3\n",
    "print (x)\n",
    "\n",
    "print (4+6)\n",
    "print (6-4)\n",
    "print (4*3)\n",
    "print (8/3)\n",
    "print (8//3)\n",
    "print (8%3)\n",
    "print (2**3)\n",
    "\n",
    "x=3\n",
    "x+=1\n",
    "print (x)\n",
    "x-=2\n",
    "print (x)\n",
    "x*=3\n",
    "print (x)"
   ]
  },
  {
   "cell_type": "code",
   "execution_count": 13,
   "id": "48526043",
   "metadata": {},
   "outputs": [
    {
     "name": "stdout",
     "output_type": "stream",
     "text": [
      "False\n",
      "False\n",
      "False\n",
      "False\n",
      "False\n",
      "False\n"
     ]
    }
   ],
   "source": [
    "x= 2>3\n",
    "print(x)\n",
    "x= 3<2\n",
    "print (x)\n",
    "x = 2 >=3\n",
    "print (x)\n",
    "x = 3 <=2\n",
    "print (x)\n",
    "x=3 == 4\n",
    "print (x)\n",
    "x=3 !=3\n",
    "print (x)"
   ]
  },
  {
   "cell_type": "code",
   "execution_count": 14,
   "id": "62c54f2d",
   "metadata": {},
   "outputs": [
    {
     "name": "stdout",
     "output_type": "stream",
     "text": [
      "True\n",
      "True\n",
      "True\n",
      "True\n",
      "True\n",
      "True\n"
     ]
    }
   ],
   "source": [
    "x= 3>2\n",
    "print(x)\n",
    "x= 2<3\n",
    "print (x)\n",
    "x = 3 >=2\n",
    "print (x)\n",
    "x = 3 <=3\n",
    "print (x)\n",
    "x=3 == 3\n",
    "print (x)\n",
    "x=3 !=4\n",
    "print (x)"
   ]
  },
  {
   "cell_type": "code",
   "execution_count": 15,
   "id": "a5ac2db2",
   "metadata": {},
   "outputs": [
    {
     "name": "stdout",
     "output_type": "stream",
     "text": [
      "True\n",
      "True\n",
      "False\n",
      "True\n"
     ]
    }
   ],
   "source": [
    "buah_manggis = 10\n",
    "buah_mangga = 15\n",
    "print (buah_manggis > 8 and buah_mangga < 20)\n",
    "\n",
    "print (buah_manggis > 8 or buah_mangga < 20)\n",
    "\n",
    "print (buah_manggis < 8 and buah_mangga > 20)\n",
    "\n",
    "print (not (buah_manggis < 8 and buah_mangga > 20))"
   ]
  },
  {
   "cell_type": "code",
   "execution_count": 16,
   "id": "7bdaf457",
   "metadata": {},
   "outputs": [
    {
     "name": "stdout",
     "output_type": "stream",
     "text": [
      "True\n",
      "True\n",
      "False\n",
      "False\n"
     ]
    }
   ],
   "source": [
    "buah_sirsak = 19\n",
    "buah_salak = 27\n",
    "print (buah_sirsak > 12 and buah_salak < 30)\n",
    "\n",
    "print (buah_sirsak > 12 or buah_salak < 30)\n",
    "\n",
    "print (buah_sirsak < 12 and buah_salak > 30)\n",
    "\n",
    "print (buah_sirsak > 12 and buah_salak > 30)"
   ]
  },
  {
   "cell_type": "code",
   "execution_count": 17,
   "id": "2867f330",
   "metadata": {},
   "outputs": [
    {
     "name": "stdout",
     "output_type": "stream",
     "text": [
      "Nilai anda adalah89\n",
      "Anda mendapatkan nilai A\n",
      "Bagus sekali, selamat!\n"
     ]
    }
   ],
   "source": [
    "nilai = float(input(\"Nilai anda adalah\"))\n",
    "if nilai >=80:\n",
    "    print (\"Anda mendapatkan nilai A\")\n",
    "    print(\"Bagus sekali, selamat!\")\n",
    "if nilai < 80 and nilai >= 70:\n",
    "    print (\"Anda mendapatkan nilai B\")\n",
    "    print(\"Tingkatkan prestasimu!\")\n",
    "if nilai >= 60 and nilai < 70:\n",
    "    print (\"Anda mendapatkan nilai C\")\n",
    "    print(\"Tingkatkan semangatmu lagi!\")\n",
    "if nilai >= 50 and nilai < 60:\n",
    "    print (\"Anda mendapatkan nilai D\")\n",
    "    print(\"Ulang lagi tahun depan!\")\n",
    "if nilai < 50:\n",
    "    print (\"Anda mendapatkan nilai E\")\n",
    "    print(\"Kecewa berat!\")"
   ]
  },
  {
   "cell_type": "code",
   "execution_count": null,
   "id": "f701a837",
   "metadata": {},
   "outputs": [],
   "source": [
    "nilai = float(input(\"Nilai anda adalah\"))\n",
    "if nilai >=80:\n",
    "    print (\"Anda mendapatkan nilai A\")\n",
    "    print(\"Bagus sekali, selamat!\")\n",
    "elif nilai >= 70:\n",
    "    print (\"Anda mendapatkan nilai B\")\n",
    "    print(\"Tingkatkan prestasimu!\")\n",
    "elif nilai >= 60:\n",
    "    print (\"Anda mendapatkan nilai C\")\n",
    "    print(\"Tingkatkan semangatmu lagi!\")\n",
    "elif nilai >= 50:\n",
    "    print (\"Anda mendapatkan nilai D\")\n",
    "    print(\"Ulang lagi tahun depan!\")\n",
    "else:\n",
    "    print (\"Anda mendapatkan nilai E\")\n",
    "    print(\"Kecewa berat!\")"
   ]
  },
  {
   "cell_type": "code",
   "execution_count": 18,
   "id": "0e975e89",
   "metadata": {},
   "outputs": [
    {
     "name": "stdout",
     "output_type": "stream",
     "text": [
      "Berapakah tinggi anda?175\n",
      "Tingginya dalam cm atau inci? cm\n",
      "Tinggi anda adalah 68.897675 inci\n"
     ]
    }
   ],
   "source": [
    "tinggi = float(input(\"Berapakah tinggi anda?\"))\n",
    "cm_atau_inci = input (\"Tingginya dalam cm atau inci? \")\n",
    "\n",
    "if cm_atau_inci.upper() == 'CM':\n",
    "    tinggi = tinggi*0.393701\n",
    "    print(\"Tinggi anda adalah \" + str(tinggi) + \" inci\")\n",
    "elif cm_atau_inci.upper() == 'INCI':\n",
    "    tinggi = tinggi/0.393701\n",
    "    print(f\"Tinggi anda adalah {tinggi} cm\")"
   ]
  },
  {
   "cell_type": "code",
   "execution_count": 19,
   "id": "95ff8df8",
   "metadata": {},
   "outputs": [
    {
     "name": "stdout",
     "output_type": "stream",
     "text": [
      "angka 0 masih dibawah 5\n",
      "angka 1 masih dibawah 5\n",
      "angka 2 masih dibawah 5\n",
      "angka 3 masih dibawah 5\n",
      "angka 4 masih dibawah 5\n"
     ]
    }
   ],
   "source": [
    "a = 0\n",
    "while a < 5:\n",
    "    print (\"angka \" + str(a)+\" masih dibawah 5\")\n",
    "    a += 1"
   ]
  },
  {
   "cell_type": "code",
   "execution_count": 20,
   "id": "cc687d78",
   "metadata": {},
   "outputs": [
    {
     "name": "stdout",
     "output_type": "stream",
     "text": [
      "\n",
      "*\n",
      "**\n",
      "***\n",
      "****\n",
      "*****\n",
      "******\n",
      "*******\n",
      "********\n",
      "*********\n"
     ]
    }
   ],
   "source": [
    "a = 0\n",
    "while a < 10 :\n",
    "    print (a* '*')\n",
    "    a += 1"
   ]
  }
 ],
 "metadata": {
  "kernelspec": {
   "display_name": "Python 3 (ipykernel)",
   "language": "python",
   "name": "python3"
  },
  "language_info": {
   "codemirror_mode": {
    "name": "ipython",
    "version": 3
   },
   "file_extension": ".py",
   "mimetype": "text/x-python",
   "name": "python",
   "nbconvert_exporter": "python",
   "pygments_lexer": "ipython3",
   "version": "3.9.7"
  }
 },
 "nbformat": 4,
 "nbformat_minor": 5
}
