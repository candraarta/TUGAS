{
 "cells": [
  {
   "cell_type": "code",
   "execution_count": null,
   "id": "acf871ab",
   "metadata": {},
   "outputs": [],
   "source": [
    "print('Ini Kelas Algoritma')\n",
    "\n",
    "print(\"Ini Kelas Algoritma\")\n",
    "\n",
    "print(\"I dont't understand what are you saying\")\n",
    "\n",
    "print('He is such a \"GENIUS\"')\n"
   ]
  },
  {
   "cell_type": "code",
   "execution_count": null,
   "id": "f174c691",
   "metadata": {},
   "outputs": [],
   "source": [
    "jumlah_mahasiswa = 100\n",
    "uang_di_saku = 1000000\n",
    "\n",
    "print(jumlah_mahasiswa)\n",
    "\n",
    "print(uang_di_saku)\n",
    "\n",
    "print(jumlah_mahasiswa*uang_di_saku)"
   ]
  },
  {
   "cell_type": "code",
   "execution_count": null,
   "id": "6ac7a902",
   "metadata": {},
   "outputs": [],
   "source": [
    "print ('hello_kawan')\n",
    "\n",
    "nama_depan = 'candra '\n",
    "\n",
    "nama_tengah = 'arta'\n",
    "\n",
    "nama_belakang = ' wiguna_CAWI'\n",
    "\n",
    "print (nama_depan + nama_tengah + nama_belakang)"
   ]
  },
  {
   "cell_type": "code",
   "execution_count": null,
   "id": "fdbe3547",
   "metadata": {},
   "outputs": [],
   "source": [
    "berat_badan = input('berapakah berat anda dalam kg? ' )\n",
    "print (\"Berat badan anda adalah \" +  berat_badan + \" kg\")\n",
    "\n",
    "print(berat_badan)\n",
    "\n",
    "nama = input(\"siapa nama panggilan anda? \")\n",
    "hobi_saat_ini = input('apa hobi anda saat ini? ') \n",
    "print('semangat_menjalani' + hobi_saat_ini +\"nya ngab, \" + nama + \"!\")\n",
    "\n",
    "nama = input(\"siapa nama panggilan anda? \")\n",
    "nama_pacar = input('siapa nama pacar anda saat ini? ')\n",
    "\n",
    "print('kasihan' + nama_pacar + \"nya ngabers, \" + nama + \"!!!\")"
   ]
  },
  {
   "cell_type": "code",
   "execution_count": null,
   "id": "4aa7be36",
   "metadata": {},
   "outputs": [],
   "source": [
    "uang_di_dompet = input('berapakah uang di dompet anda? ')\n",
    "uang_di_tabungan = input(\"berpakah uang di tabungan anda? \")\n",
    "total_uang = int(uang_di_dompet) + int(uang_di_tabungan)\n",
    "print(\"total uang anda saat ini adalah Rp \"+ str(total_uang))"
   ]
  },
  {
   "cell_type": "code",
   "execution_count": null,
   "id": "489cda4e",
   "metadata": {},
   "outputs": [],
   "source": [
    "nama = \"candra\"\n",
    "jabatan = \"mahasiswa \"\n",
    "hobi = \"menyanyi\"\n",
    "instansi = \"universitas udayana\"\n",
    "print (nama + \" adalah seorang \" + jabatan + \"yang mempunyai hobi \" + hobi + \",\" + \"bersekolah di \" + instansi + \".\" )\n",
    "\n",
    "print (f'{nama} adalah seorang {jabatan} di {instansi}.')\n",
    "\n",
    "print(f\"{nama} mempunyai hobi {hobi} yang bersekolah di {instansi}.\")\n",
    "\n",
    "print(f\" {instansi} adalah tempat {nama} menuntut ilmu. disana {nama} berada di falkutas MIPA.\")"
   ]
  },
  {
   "cell_type": "code",
   "execution_count": null,
   "id": "4b567dce",
   "metadata": {},
   "outputs": [],
   "source": [
    "kelas = 'ini matakuliah algoritma '\n",
    "\n",
    "print(kelas [0:3])\n",
    "\n",
    "print (kelas[0:-1])\n",
    "\n",
    "print(kelas [5:-1])\n",
    "\n",
    "print(kelas[2:-1:3])\n",
    "\n",
    "print(kelas[:-3])\n",
    "\n",
    "print(kelas[:1])\n",
    "\n",
    "print(kelas[1:])\n",
    "\n",
    "print(kelas[:])\n",
    "\n",
    "print(kelas[:-1])\n",
    "\n",
    "print(kelas[:1])\n",
    "\n",
    "print(kelas[:2])\n",
    "\n",
    "print(kelas[:3])\n",
    "\n",
    "print(kelas[:4])\n",
    "\n",
    "print(kelas[:5])\n",
    "\n",
    "print(kelas[1:])\n",
    "\n",
    "print(kelas[:-1])\n",
    "\n",
    "print (kelas[:-2])"
   ]
  },
  {
   "cell_type": "code",
   "execution_count": null,
   "id": "d98ace7a",
   "metadata": {},
   "outputs": [],
   "source": [
    "judul = \"tetep mekenyem\"\n",
    "\n",
    "print(len(judul))\n",
    "\n",
    "judul.upper()\n",
    "\n",
    "judul.lower()\n",
    "\n",
    "judul.find(\"mekenyem\")\n",
    "\n",
    "judul.find(\"tetep\")\n",
    "\n",
    "judul.replace(\"tetep\", \"bidadari\")\n",
    "\n",
    "judul.replace(\"mekenyem\", \"kamu\")\n",
    "\n",
    "print (\"mekenyem\" in judul)\n",
    "\n",
    "print(\"tetep\" in judul)\n",
    "\n",
    "judul.find(\"Tetep\")"
   ]
  },
  {
   "cell_type": "code",
   "execution_count": null,
   "id": "bfbc27a1",
   "metadata": {},
   "outputs": [],
   "source": [
    "print (2+3)\n",
    "print (2-3)\n",
    "print (2*3)\n",
    "print (7/3)\n",
    "print (7//3)\n",
    "print (7%3)\n",
    "print (2**3)\n",
    "\n",
    "x=3\n",
    "x+=1\n",
    "print (x)\n",
    "x-=2\n",
    "print (x)\n",
    "x*=3\n",
    "print (x)\n",
    "\n",
    "print (4+6)\n",
    "print (6-4)\n",
    "print (4*3)\n",
    "print (8/3)\n",
    "print (8//3)\n",
    "print (8%3)\n",
    "print (2**3)\n",
    "\n",
    "x=3\n",
    "x+=1\n",
    "print (x)\n",
    "x-=2\n",
    "print (x)\n",
    "x*=3\n",
    "print (x)"
   ]
  },
  {
   "cell_type": "code",
   "execution_count": null,
   "id": "7a7d0ebb",
   "metadata": {},
   "outputs": [],
   "source": [
    "x= 2>3\n",
    "print(x)\n",
    "x= 3<2\n",
    "print (x)\n",
    "x = 2 >=3\n",
    "print (x)\n",
    "x = 3 <=2\n",
    "print (x)\n",
    "x=3 == 4\n",
    "print (x)\n",
    "x=3 !=3\n",
    "print (x)"
   ]
  },
  {
   "cell_type": "code",
   "execution_count": null,
   "id": "578c0d99",
   "metadata": {},
   "outputs": [],
   "source": [
    "x= 3>2\n",
    "print(x)\n",
    "x= 2<3\n",
    "print (x)\n",
    "x = 3 >=2\n",
    "print (x)\n",
    "x = 3 <=3\n",
    "print (x)\n",
    "x=3 == 3\n",
    "print (x)\n",
    "x=3 !=4\n",
    "print (x)"
   ]
  },
  {
   "cell_type": "code",
   "execution_count": null,
   "id": "190c1f24",
   "metadata": {},
   "outputs": [],
   "source": [
    "buah_manggis = 10\n",
    "buah_mangga = 15\n",
    "print (buah_manggis > 8 and buah_mangga < 20)\n",
    "\n",
    "print (buah_manggis > 8 or buah_mangga < 20)\n",
    "\n",
    "print (buah_manggis < 8 and buah_mangga > 20)\n",
    "\n",
    "print (not (buah_manggis < 8 and buah_mangga > 20))"
   ]
  },
  {
   "cell_type": "code",
   "execution_count": null,
   "id": "271ff0ad",
   "metadata": {},
   "outputs": [],
   "source": [
    "buah_sirsak = 19\n",
    "buah_salak = 27\n",
    "print (buah_sirsak > 12 and buah_salak < 30)\n",
    "\n",
    "print (buah_sirsak > 12 or buah_salak < 30)\n",
    "\n",
    "print (buah_sirsak < 12 and buah_salak > 30)\n",
    "\n",
    "print (buah_sirsak > 12 and buah_salak > 30)"
   ]
  },
  {
   "cell_type": "code",
   "execution_count": null,
   "id": "e73fba59",
   "metadata": {},
   "outputs": [],
   "source": [
    "nilai = float(input(\"Nilai anda adalah\"))\n",
    "if nilai >=80:\n",
    "    print (\"Anda mendapatkan nilai A\")\n",
    "    print(\"Bagus sekali, selamat!\")\n",
    "if nilai < 80 and nilai >= 70:\n",
    "    print (\"Anda mendapatkan nilai B\")\n",
    "    print(\"Tingkatkan prestasimu!\")\n",
    "if nilai >= 60 and nilai < 70:\n",
    "    print (\"Anda mendapatkan nilai C\")\n",
    "    print(\"Tingkatkan semangatmu lagi!\")\n",
    "if nilai >= 50 and nilai < 60:\n",
    "    print (\"Anda mendapatkan nilai D\")\n",
    "    print(\"Ulang lagi tahun depan!\")\n",
    "if nilai < 50:\n",
    "    print (\"Anda mendapatkan nilai E\")\n",
    "    print(\"Kecewa berat!\")"
   ]
  },
  {
   "cell_type": "code",
   "execution_count": null,
   "id": "568d47ba",
   "metadata": {},
   "outputs": [],
   "source": [
    "nilai = float(input(\"Nilai anda adalah\"))\n",
    "if nilai >=80:\n",
    "    print (\"Anda mendapatkan nilai A\")\n",
    "    print(\"Bagus sekali, selamat!\")\n",
    "elif nilai >= 70:\n",
    "    print (\"Anda mendapatkan nilai B\")\n",
    "    print(\"Tingkatkan prestasimu!\")\n",
    "elif nilai >= 60:\n",
    "    print (\"Anda mendapatkan nilai C\")\n",
    "    print(\"Tingkatkan semangatmu lagi!\")\n",
    "elif nilai >= 50:\n",
    "    print (\"Anda mendapatkan nilai D\")\n",
    "    print(\"Ulang lagi tahun depan!\")\n",
    "else:\n",
    "    print (\"Anda mendapatkan nilai E\")\n",
    "    print(\"Kecewa berat!\")"
   ]
  },
  {
   "cell_type": "code",
   "execution_count": null,
   "id": "5162277b",
   "metadata": {},
   "outputs": [],
   "source": [
    "tinggi = float(input(\"Berapakah tinggi anda?\"))\n",
    "cm_atau_inci = input (\"Tingginya dalam cm atau inci? \")\n",
    "\n",
    "if cm_atau_inci.upper() == 'CM':\n",
    "    tinggi = tinggi*0.393701\n",
    "    print(\"Tinggi anda adalah \" + str(tinggi) + \" inci\")\n",
    "elif cm_atau_inci.upper() == 'INCI':\n",
    "    tinggi = tinggi/0.393701\n",
    "    print(f\"Tinggi anda adalah {tinggi} cm\")"
   ]
  },
  {
   "cell_type": "code",
   "execution_count": null,
   "id": "a7ddd660",
   "metadata": {},
   "outputs": [],
   "source": [
    "a = 0\n",
    "while a < 5:\n",
    "    print (\"angka \" + str(a)+\" masih dibawah 5\")\n",
    "    a += 1"
   ]
  },
  {
   "cell_type": "code",
   "execution_count": null,
   "id": "da53c2a2",
   "metadata": {},
   "outputs": [],
   "source": [
    "a = 0\n",
    "while a < 10 :\n",
    "    print (a* '*')\n",
    "    a += 1"
   ]
  },
  {
   "cell_type": "code",
   "execution_count": null,
   "id": "cf9c77f7",
   "metadata": {},
   "outputs": [],
   "source": []
  },
  {
   "cell_type": "code",
   "execution_count": null,
   "id": "ef389b4d",
   "metadata": {},
   "outputs": [],
   "source": []
  }
 ],
 "metadata": {
  "kernelspec": {
   "display_name": "Python 3 (ipykernel)",
   "language": "python",
   "name": "python3"
  },
  "language_info": {
   "codemirror_mode": {
    "name": "ipython",
    "version": 3
   },
   "file_extension": ".py",
   "mimetype": "text/x-python",
   "name": "python",
   "nbconvert_exporter": "python",
   "pygments_lexer": "ipython3",
   "version": "3.9.7"
  }
 },
 "nbformat": 4,
 "nbformat_minor": 5
}
